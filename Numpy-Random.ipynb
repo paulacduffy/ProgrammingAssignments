{
 "cells": [
  {
   "cell_type": "markdown",
   "metadata": {},
   "source": [
    "# The numpy.random package\n",
    "\n",
    "A random number is a number determined totally by chance. That is, the number has no predictable relationship to any other number or event. Random numbers are numbers that occur in a sequence such that two conditions are met: (1) the values are uniformly distributed over a defined interval or set, and (2) it is impossible to predict future values based on past or present ones.   \n",
    "In computing, a 'random' number generator doesn't exist, as computers follow instructions & is therefore predictable. Instead, pseudorandom number generators (PRNGs) are used. A PRNG uses a mathematical formula or precalculated to produce sequences of numbers that appear random. PRNGs are deterministic, which means that once the starting point in the sequence is known, a given sequence can be reproduced. PRNGs are not suitable where the numbers generated need to be truly random, e.g. for encryption purposes.   \n",
    "The numpy.random package contains a number of functions that can be used to generate random data. It uses the Mersenne twister sequence (a pseudorandom number generator) to do so. \n",
    "\n",
    "References:\n",
    "https://stattrek.com/statistics/dictionary.aspx?definition=random_number_table   \n",
    "https://whatis.techtarget.com/definition/random-numbers"
   ]
  },
  {
   "cell_type": "markdown",
   "metadata": {
    "collapsed": true
   },
   "source": [
    "The Simple Random Data functions in numpy.random are used to generate random data in various ways.  For example, the rand function produces random values in a given shape - in the example below the array produced is one of five rows & three columns.\n",
    "\n",
    "\n"
   ]
  },
  {
   "cell_type": "code",
   "execution_count": 4,
   "metadata": {},
   "outputs": [
    {
     "data": {
      "text/plain": [
       "array([[ 0.90997936,  0.9216142 ,  0.21598959],\n",
       "       [ 0.12625295,  0.50910713,  0.8710181 ],\n",
       "       [ 0.33058013,  0.78897057,  0.47084379],\n",
       "       [ 0.19749661,  0.15586179,  0.35625509],\n",
       "       [ 0.19213434,  0.00716669,  0.27769683]])"
      ]
     },
     "execution_count": 4,
     "metadata": {},
     "output_type": "execute_result"
    }
   ],
   "source": [
    "import numpy as np\n",
    "#Importing the numpy package\n",
    "np.random.rand(5,3)\n",
    "#running the rand function to produce an array of five rows & three columns"
   ]
  },
  {
   "cell_type": "markdown",
   "metadata": {
    "collapsed": true
   },
   "source": [
    "### Binomial Distribution\n",
    "The binomial distribution is a probability distribution used when there are only two possible outcomes for a random variable, success or failure. Success and failure must be mutually exclusive, i.e. they cannot occur at the same time. The binomial distribution assumes a finite number of trials, and each trial must be independent of the last, so the probability of success does not change from trial to trial. An example would be flipping a coin - the outcome is either heads or tails, and the probability of 'success' or 'failure' are both 0.5.   \n",
    "Reference: https://magoosh.com/statistics/understanding-binomial-distribution/"
   ]
  },
  {
   "cell_type": "code",
   "execution_count": 2,
   "metadata": {
    "scrolled": true
   },
   "outputs": [
    {
     "data": {
      "image/png": "[encoded data removed]",
      "text/plain": [
       "<matplotlib.figure.Figure at 0x24c4b185940>"
      ]
     },
     "metadata": {},
     "output_type": "display_data"
    }
   ],
   "source": [
    "import numpy as np\n",
    "import matplotlib.pyplot as plt\n",
    "\n",
    "n, p = 10, .5  \n",
    "# number of trials, probability of each trial\n",
    "s = np.random.binomial(n, p, 1000)\n",
    "# result of flipping a coin 10 times, tested 1000 times.\n",
    "\n",
    "plt.hist (s)\n",
    "plt.show ()\n",
    "\n"
   ]
  },
  {
   "cell_type": "markdown",
   "metadata": {},
   "source": [
    "What happens when you increase the number of trials?"
   ]
  },
  {
   "cell_type": "code",
   "execution_count": 2,
   "metadata": {},
   "outputs": [
    {
     "data": {
      "image/png": "[encoded data removed]",
      "text/plain": [
       "<matplotlib.figure.Figure at 0x2603f34cf60>"
      ]
     },
     "metadata": {},
     "output_type": "display_data"
    }
   ],
   "source": [
    "import numpy as np\n",
    "import matplotlib.pyplot as plt\n",
    "\n",
    "n, p = 10, .5  \n",
    "# number of trials, probability of each trial\n",
    "s = np.random.binomial(n, p, 10000)\n",
    "# result of flipping a coin 10 times, tested 10000 times.\n",
    "plt.hist (s)\n",
    "plt.show ()"
   ]
  },
  {
   "cell_type": "markdown",
   "metadata": {},
   "source": [
    "When you increase the number of trials the histogram gets closer to a bell shaped curve, i.e. the Normal Distribution. \n",
    "### Normal Distribution\n",
    "In a normal distribution, generally 50% of values are less than the mean, and 50% of values are greater than the mean.  \n",
    "It is known as a normal distribution because it is the distribution that a lot of data falls in to. It is also known as the Gaussian distribution after Carl Friedrich Gauss. Some examples of data that have a normal distribution are IQ scores, peoples heights and body temperature.   \n",
    "Reference: https://machinelearningmastery.com/a-gentle-introduction-to-calculating-normal-summary-statistics/  \n",
    "The below example shows the result for 100,000 times - again the histogram produced is closer again to a normal distribution."
   ]
  },
  {
   "cell_type": "code",
   "execution_count": 3,
   "metadata": {},
   "outputs": [
    {
     "data": {
      "image/png": "[encoded data removed]",
      "text/plain": [
       "<matplotlib.figure.Figure at 0x260401fc748>"
      ]
     },
     "metadata": {},
     "output_type": "display_data"
    }
   ],
   "source": [
    "import numpy as np\n",
    "import matplotlib.pyplot as plt\n",
    "\n",
    "n, p = 10, .5  \n",
    "# number of trials, probability of each trial\n",
    "s = np.random.binomial(n, p, 100000)\n",
    "# result of flipping a coin 10 times, tested 100000 times.\n",
    "plt.hist (s)\n",
    "plt.show ()"
   ]
  },
  {
   "cell_type": "markdown",
   "metadata": {},
   "source": [
    "### Geometric Distribution   \n",
    "We have discussed the binomial distribution in terms of flipping a coin - the result is either heads or tails. If, however, we want to see how many times we must flip the coin before heads comes up, the geometric distributions results, i.e. how many failures occur before we achieve success.   \n"
   ]
  },
  {
   "cell_type": "code",
   "execution_count": 11,
   "metadata": {},
   "outputs": [
    {
     "data": {
      "text/plain": [
       "0.50700000000000001"
      ]
     },
     "execution_count": 11,
     "metadata": {},
     "output_type": "execute_result"
    }
   ],
   "source": [
    "import numpy as np\n",
    "z = np.random.geometric(p=0.5, size=10000)\n",
    "#Draws 10000 samples from a geometric distribution where the probability of success of an individual trial is 0.5\n",
    "(z == 1).sum() / 10000.\n",
    "#calculates how many trials succeeded after a single run\n"
   ]
  },
  {
   "cell_type": "markdown",
   "metadata": {
    "collapsed": true
   },
   "source": [
    "### Multinomial distribution\n",
    "The multinomial distribution is similar to the binomial distribution, except it is used to calculate the probabilities in situations where there are more than two probable outcomes. For example, throwing a dice - there are six possible outcomes, and each outcome has the same likelihood of occurring."
   ]
  },
  {
   "cell_type": "code",
   "execution_count": 6,
   "metadata": {},
   "outputs": [
    {
     "data": {
      "text/plain": [
       "array([[6, 3, 2, 2, 3, 4]])"
      ]
     },
     "execution_count": 6,
     "metadata": {},
     "output_type": "execute_result"
    }
   ],
   "source": [
    "import numpy as np\n",
    "array = np.random.multinomial(20, [1/6.]*6, size=1)\n",
    "array\n"
   ]
  },
  {
   "cell_type": "markdown",
   "metadata": {},
   "source": [
    "In the above example, the dice is thrown 20 times, with a one in six chance of any particular outcome. We ran the program once, and the outcomes were 1 came up 6 times, 2 came up three times, three came up twice, four came up twice, five came up three times and six came up four times.  \n",
    "Reference: https://www.w3cschool.cn/doc_numpy_1_11/numpy_1_11-generated-numpy-random-multinomial.html  \n",
    "Running the program ten times gives the following:"
   ]
  },
  {
   "cell_type": "code",
   "execution_count": 8,
   "metadata": {},
   "outputs": [
    {
     "data": {
      "text/plain": [
       "array([[9, 2, 3, 1, 1, 4],\n",
       "       [5, 6, 1, 5, 2, 1],\n",
       "       [3, 3, 3, 4, 3, 4],\n",
       "       [3, 6, 4, 2, 3, 2],\n",
       "       [5, 4, 2, 3, 1, 5],\n",
       "       [8, 2, 2, 3, 5, 0],\n",
       "       [4, 2, 2, 2, 8, 2],\n",
       "       [5, 2, 3, 2, 5, 3],\n",
       "       [5, 2, 1, 5, 2, 5],\n",
       "       [3, 2, 6, 4, 2, 3]])"
      ]
     },
     "execution_count": 8,
     "metadata": {},
     "output_type": "execute_result"
    }
   ],
   "source": [
    "import numpy as np\n",
    "array = np.random.multinomial(20, [1/6.]*6, size=10)\n",
    "array"
   ]
  },
  {
   "cell_type": "markdown",
   "metadata": {
    "collapsed": true
   },
   "source": [
    "### Poisson Distribution\n",
    "The Poisson distribution expresses the probability of a given number of events occurring in a fixed interval of time or space if these events occur with a known constant rate and independently of the time since the last event. The poisson distribution is what you think of when trying to count events over time given the continuous rate of events occurring, e.g. calls to a support hotline each minute. thinking about this may bring to mind a binomial distribution, i.e. a customer either calls or doesn't call, however in a Poisson distribution many people may call each second or part of a second.   \n",
    "The numpy.poisson function draws random samples from a Poisson distribution.   \n",
    "Reference: http://blog.cloudera.com/blog/2015/12/common-probability-distributions-the-data-scientists-crib-sheet/\n"
   ]
  },
  {
   "cell_type": "code",
   "execution_count": 7,
   "metadata": {},
   "outputs": [
    {
     "data": {
      "image/png": "[encoded data removed]",
      "text/plain": [
       "<matplotlib.figure.Figure at 0x274075c3390>"
      ]
     },
     "metadata": {},
     "output_type": "display_data"
    }
   ],
   "source": [
    "import numpy as np\n",
    "s=np.random.poisson(5, 10000)\n",
    "#draw samples from the poisson distribution, 5 = interval, 10000 = size of output\n",
    "import matplotlib.pyplot as plt\n",
    "plt.hist(s,16,density = True)\n",
    "plt.show ()\n",
    "#plot the samples drawn\n",
    "\n"
   ]
  },
  {
   "cell_type": "code",
   "execution_count": null,
   "metadata": {
    "collapsed": true
   },
   "outputs": [],
   "source": []
  }
 ],
 "metadata": {
  "kernelspec": {
   "display_name": "Python 3",
   "language": "python",
   "name": "python3"
  },
  "language_info": {
   "codemirror_mode": {
    "name": "ipython",
    "version": 3
   },
   "file_extension": ".py",
   "mimetype": "text/x-python",
   "name": "python",
   "nbconvert_exporter": "python",
   "pygments_lexer": "ipython3",
   "version": "3.6.3"
  }
 },
 "nbformat": 4,
 "nbformat_minor": 2
}
