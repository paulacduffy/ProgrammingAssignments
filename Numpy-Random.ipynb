{
 "cells": [
  {
   "cell_type": "markdown",
   "metadata": {},
   "source": [
    "# The numpy.random package\n",
    "\n",
    "A random number is a number determined totally by chance. That is, the number has no predictable relationship to any other number or event. Random numbers are numbers that occur in a sequence such that two conditions are met: (1) the values are uniformly distributed over a defined interval or set, and (2) it is impossible to predict future values based on past or present ones.   \n",
    "In computing, a 'random' number generator doesn't exist, as computers follow instructions & is therefore predictable. Instead, pseudorandom number generators (PRNGs) are used. A PRNG uses a mathematical formula or precalculated to produce sequences of numbers that appear random. PRNGs are deterministic, which means that once the starting point in the sequence is known, a given sequence can be reproduced. PRNGs are not suitable where the numbers generated need to be truly random, e.g. for encryption purposes.   \n",
    "The numpy.random package contains a number of functions that can be used to generate random data. It uses the Mersenne twister sequence (a pseudorandom number generator) to do so. \n",
    "\n",
    "References:\n",
    "https://stattrek.com/statistics/dictionary.aspx?definition=random_number_table   \n",
    "https://whatis.techtarget.com/definition/random-numbers"
   ]
  },
  {
   "cell_type": "markdown",
   "metadata": {
    "collapsed": true
   },
   "source": [
    "The Simple Random Data functions in numpy.random are used to generate random data in various ways.  For example, the rand function produces random values in a given shape - in the example below the array produced is one of five rows & three columns.\n",
    "\n",
    "\n"
   ]
  },
  {
   "cell_type": "code",
   "execution_count": 4,
   "metadata": {},
   "outputs": [
    {
     "data": {
      "text/plain": [
       "array([[ 0.90997936,  0.9216142 ,  0.21598959],\n",
       "       [ 0.12625295,  0.50910713,  0.8710181 ],\n",
       "       [ 0.33058013,  0.78897057,  0.47084379],\n",
       "       [ 0.19749661,  0.15586179,  0.35625509],\n",
       "       [ 0.19213434,  0.00716669,  0.27769683]])"
      ]
     },
     "execution_count": 4,
     "metadata": {},
     "output_type": "execute_result"
    }
   ],
   "source": [
    "import numpy as np\n",
    "#Importing the numpy package\n",
    "np.random.rand(5,3)\n",
    "#running the rand function to produce an array of five rows & three columns"
   ]
  },
  {
   "cell_type": "markdown",
   "metadata": {
    "collapsed": true
   },
   "source": [
    "### Binomial Distribution\n",
    "The binomial distribution is a probability distribution used when there are only two possible outcomes for a random variable, success or failure. Success and failure must be mutually exclusive, i.e. they cannot occur at the same time. The binomial distribution assumes a finite number of trials, and each trial must be independent of the last, so the probability of success does not change from trial to trial. An example would be flipping a coin - the outcome is either heads or tails, and the probability of 'success' or 'failure' are both 0.5."
   ]
  },
  {
   "cell_type": "code",
   "execution_count": 5,
   "metadata": {},
   "outputs": [
    {
     "data": {
      "text/plain": [
       "array([ 4,  5,  6,  4,  3,  3,  4,  8,  6,  5,  5,  5,  4,  5,  6,  5,  6,\n",
       "        6,  5,  5,  5,  6,  4,  7,  5,  6,  5,  2,  5,  4,  7,  5,  6,  5,\n",
       "        5,  7,  5,  7,  6,  1,  7,  7,  6,  4,  6,  7,  6,  7,  5,  7,  4,\n",
       "        5,  1,  4,  7,  5,  4,  7,  4,  4,  6,  4,  6,  6,  8,  5,  3,  3,\n",
       "        6,  6,  4,  5,  4,  5,  4,  4,  7,  6,  8,  3,  7,  5,  4,  5,  4,\n",
       "        3,  4,  6,  5,  6,  7,  3,  6,  3,  4,  4,  5,  7,  3,  7,  4,  4,\n",
       "        6,  6,  7,  4,  5,  6,  6,  4,  6,  7,  2,  5,  5,  6,  3,  3,  6,\n",
       "        5,  5,  7,  8,  4,  6,  6,  5,  6,  3,  7,  7,  4,  5,  6, 10,  4,\n",
       "        8,  5,  4,  6,  5,  2,  5,  2,  4,  4,  7,  7,  4,  7,  1,  8,  3,\n",
       "        5,  5,  5,  5,  4,  7,  7,  5,  3,  5,  4,  5,  7,  8,  5,  7,  5,\n",
       "        5,  7,  7,  2,  6,  7,  5,  6,  7,  2,  7,  4,  6,  7,  7,  6,  3,\n",
       "        9,  5,  1,  4,  3,  3,  5,  6,  5,  6,  7,  7,  9,  6,  3,  4,  6,\n",
       "        5,  5,  3,  4,  4,  6,  2,  6,  5,  4,  8,  3,  6, 10,  4,  7,  5,\n",
       "        5,  6,  5,  5,  6,  3,  4,  7,  5,  4,  4,  4,  5,  2,  6,  6, 10,\n",
       "        5,  5,  6,  4,  4,  5,  8,  5,  4,  7,  6,  4,  2,  4,  3,  3,  4,\n",
       "        4,  7,  4,  3,  8,  4,  6,  6,  6,  6,  9,  6,  6,  3,  5,  4,  4,\n",
       "        3,  2,  5,  5,  5,  4,  3,  6,  2,  4,  7,  3,  7,  5,  5,  2,  5,\n",
       "        5,  4,  3,  5,  6,  3,  5,  4,  7,  5,  6,  6,  4,  4,  7,  6,  3,\n",
       "        8,  4,  4,  4,  8,  6,  5,  6,  7,  4,  6,  6,  6,  4,  4,  6,  4,\n",
       "        4,  2,  6,  6,  4,  3,  3,  2,  6,  5,  7,  2,  2,  4,  7,  6,  8,\n",
       "        3,  4,  5,  3,  4,  5,  5,  5,  5,  5,  4,  5,  6,  8,  5,  4,  5,\n",
       "        2,  5,  9,  5,  3,  3,  6,  4,  2,  5,  5,  5,  3,  5,  4,  6,  6,\n",
       "        0,  4,  7,  4,  8,  5,  4,  7,  3,  4,  5,  4,  2,  2,  3,  4,  3,\n",
       "        4,  7,  2,  5,  7,  7,  4,  6,  5,  5,  4,  5,  5,  4,  2,  4,  8,\n",
       "        1,  5,  4,  7,  8,  4,  4,  8,  6,  6,  6,  4,  6,  7,  3,  3,  4,\n",
       "        4,  7,  5,  3,  5,  6,  5,  5,  5,  6,  6,  4,  3,  2,  4,  4,  6,\n",
       "        6,  5,  7,  6,  3,  8,  4,  3,  4,  6,  5,  4,  4,  6,  3,  6,  5,\n",
       "        7,  5,  4,  5,  4,  4,  3,  4,  8,  1,  5,  3,  5,  6,  4,  3,  5,\n",
       "        5,  1,  4,  4,  7,  6,  6,  4,  3,  3,  3,  5,  5,  3,  9,  7,  8,\n",
       "        5,  7,  5,  3,  6,  3,  8,  4,  6,  8,  5,  5,  6,  6,  4,  5,  5,\n",
       "        6,  5,  2,  4,  6,  8,  4,  6,  6,  2,  8,  8,  5,  6,  5,  2,  7,\n",
       "        6,  2,  6,  6,  6,  4,  8,  4,  6,  4,  6,  7,  5,  5,  6,  7,  4,\n",
       "        3,  7,  5,  5,  4,  6,  8,  4,  4,  4,  7,  4,  5,  5,  5,  2,  4,\n",
       "        3,  7,  7,  6,  7,  3,  6,  6,  4,  5,  6,  5,  6,  4,  3,  4,  7,\n",
       "        5,  4,  5,  5,  1,  4,  6,  5,  6,  3,  7,  7,  8,  6,  3,  7,  5,\n",
       "        4,  7,  3,  4,  7,  5,  7,  5,  6,  5,  2,  5,  4,  5,  7,  5,  4,\n",
       "        7,  5,  4,  5,  3,  5,  4,  2,  4,  3,  5,  3,  4,  4,  3,  6,  4,\n",
       "        3,  4,  5,  4,  6,  3,  4,  4,  6,  2,  2,  7,  5,  4,  7,  6,  5,\n",
       "        5,  6,  3,  4,  5,  4,  8,  4,  7,  5,  4,  4,  6,  4,  5,  4,  8,\n",
       "        5,  7,  4,  4,  4,  5,  2,  2,  4,  5,  3,  6,  5,  4,  5,  5,  4,\n",
       "        5,  7,  4,  6,  4,  7,  3,  5,  7,  5,  4,  5,  6,  5,  3,  6,  5,\n",
       "        5,  5,  4,  4,  7,  3,  4,  5,  7,  6,  6,  4,  4,  5,  4,  4,  4,\n",
       "        5,  6,  5,  5,  4,  4,  5,  2,  7,  6,  7,  6,  3,  4,  6,  8,  6,\n",
       "        6,  7,  6,  6,  5,  3,  3,  7,  2,  4,  8,  6,  8,  6,  3,  6,  4,\n",
       "        4,  6,  6,  7,  4,  4,  5,  4,  6,  3,  4,  4,  7,  5,  7,  6,  7,\n",
       "        4,  5,  6,  6,  5,  5,  7,  6,  5,  9,  5,  5,  5,  4,  7,  6,  7,\n",
       "        5,  7,  6,  4,  0,  5,  8,  3,  3,  6,  7,  6,  5,  5,  4,  8,  3,\n",
       "        5,  6,  6,  3,  4,  7,  7,  7,  5,  4,  5,  3,  5,  4,  5,  4,  6,\n",
       "        6,  7,  6,  5,  3,  6,  5,  5,  4,  6,  5,  5,  7,  7,  5,  3,  5,\n",
       "        2,  5,  7,  2,  4,  7,  3,  5,  7,  5,  6,  4,  5,  7,  6,  4,  5,\n",
       "        5,  4,  3,  5,  5,  6,  4,  5,  7,  5,  5,  4,  9,  4,  4,  6,  5,\n",
       "        5,  8,  5,  5,  6,  6,  6,  4,  7,  4,  9,  5,  5,  3,  4,  3,  5,\n",
       "        4,  5,  4,  8,  3,  6,  4,  4,  5,  7,  6,  5,  3,  3,  3,  5,  9,\n",
       "        2,  4,  5,  5,  5,  4,  5,  6,  6,  5,  6,  5,  6,  2,  7,  6,  3,\n",
       "        8,  6,  2,  3,  3,  5,  3,  1,  5,  6,  7,  7,  7,  5,  3,  6,  4,\n",
       "        7,  2,  5,  5,  6,  5,  3,  3,  7,  5,  5,  5,  5,  2,  7,  6,  2,\n",
       "        4,  6,  6,  5,  5,  6,  8,  5,  4,  3,  5,  6,  3,  6,  5,  4,  6,\n",
       "        4,  8,  6,  3,  7,  4,  7,  4,  3,  5,  4,  5,  7,  5,  4,  7,  8,\n",
       "        7,  4,  3,  4,  6,  5,  7,  4,  6,  6,  5,  5,  7,  5])"
      ]
     },
     "execution_count": 5,
     "metadata": {},
     "output_type": "execute_result"
    }
   ],
   "source": [
    "import numpy as np\n",
    "\n",
    "n, p = 10, .5  \n",
    "# number of trials, probability of each trial\n",
    "s = np.random.binomial(n, p, 1000)\n",
    "# result of flipping a coin 10 times, tested 1000 times.\n",
    "\n"
   ]
  },
  {
   "cell_type": "code",
   "execution_count": 9,
   "metadata": {},
   "outputs": [
    {
     "data": {
      "image/png": "[encoded data removed]",
      "text/plain": [
       "<matplotlib.figure.Figure at 0x1bb0d750c88>"
      ]
     },
     "metadata": {},
     "output_type": "display_data"
    }
   ],
   "source": [
    "import matplotlib.pyplot as plt\n",
    "plt.hist (s)\n",
    "plt.show ()"
   ]
  },
  {
   "cell_type": "code",
   "execution_count": 2,
   "metadata": {},
   "outputs": [
    {
     "data": {
      "image/png": "[encoded data removed]",
      "text/plain": [
       "<matplotlib.figure.Figure at 0x2603f34cf60>"
      ]
     },
     "metadata": {},
     "output_type": "display_data"
    }
   ],
   "source": [
    "import numpy as np\n",
    "import matplotlib.pyplot as plt\n",
    "\n",
    "n, p = 10, .5  \n",
    "# number of trials, probability of each trial\n",
    "s = np.random.binomial(n, p, 10000)\n",
    "# result of flipping a coin 10 times, tested 10000 times.\n",
    "plt.hist (s)\n",
    "plt.show ()"
   ]
  },
  {
   "cell_type": "markdown",
   "metadata": {},
   "source": [
    "When you increase the number of trials the histogram gets closer to a bell shaped curve, i.e. the normal distribution. In a normal distribution, generally 50% of values are less than the mean, and 50% of values are greater than the mean."
   ]
  },
  {
   "cell_type": "code",
   "execution_count": 3,
   "metadata": {},
   "outputs": [
    {
     "data": {
      "image/png": "[encoded data removed]",
      "text/plain": [
       "<matplotlib.figure.Figure at 0x260401fc748>"
      ]
     },
     "metadata": {},
     "output_type": "display_data"
    }
   ],
   "source": [
    "import numpy as np\n",
    "import matplotlib.pyplot as plt\n",
    "\n",
    "n, p = 10, .5  \n",
    "# number of trials, probability of each trial\n",
    "s = np.random.binomial(n, p, 100000)\n",
    "# result of flipping a coin 10 times, tested 100000 times.\n",
    "plt.hist (s)\n",
    "plt.show ()"
   ]
  },
  {
   "cell_type": "code",
   "execution_count": null,
   "metadata": {
    "collapsed": true
   },
   "outputs": [],
   "source": []
  }
 ],
 "metadata": {
  "kernelspec": {
   "display_name": "Python 3",
   "language": "python",
   "name": "python3"
  },
  "language_info": {
   "codemirror_mode": {
    "name": "ipython",
    "version": 3
   },
   "file_extension": ".py",
   "mimetype": "text/x-python",
   "name": "python",
   "nbconvert_exporter": "python",
   "pygments_lexer": "ipython3",
   "version": "3.6.3"
  }
 },
 "nbformat": 4,
 "nbformat_minor": 2
}
